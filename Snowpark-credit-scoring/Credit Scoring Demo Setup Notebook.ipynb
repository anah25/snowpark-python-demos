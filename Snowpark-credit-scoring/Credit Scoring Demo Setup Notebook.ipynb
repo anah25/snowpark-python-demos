{
 "cells": [
  {
   "cell_type": "markdown",
   "id": "42ae31ab",
   "metadata": {},
   "source": [
    "#  Credit Scoring with Snowpark for Python Set-up Notebook\n",
    "Author: Zohar Nissare-Houssen\n",
    "\n",
    "## 1. Snowflake Trial Account\n",
    "\n",
    "The prerequisite is to have a Snowflake account. If you do not have a Snowflake account, you can sign-up for a free 30 day [Snowflake trial](https://signup.snowflake.com/).\n",
    "\n",
    "After signing-up for the trial, please bookmark the URL of the Snowflake account, and save your credentials as they will be needed in this lab.\n",
    "\n",
    "\n",
    "This version requires Snowpark **0.4.0** or higher\n",
    "\n",
    "## 2. Python Libraries\n",
    "\n",
    "The following libraries are needed to run this demo. In this section, add any python library missing in your environment."
   ]
  },
  {
   "cell_type": "code",
   "execution_count": 1,
   "id": "36b6734c",
   "metadata": {},
   "outputs": [
    {
     "name": "stdout",
     "output_type": "stream",
     "text": [
      "Collecting scikit-plot\n",
      "  Downloading scikit_plot-0.3.7-py3-none-any.whl (33 kB)\n",
      "Requirement already satisfied: joblib>=0.10 in c:\\users\\dobre\\anaconda3\\envs\\myenv38\\lib\\site-packages (from scikit-plot) (1.1.0)\n",
      "Requirement already satisfied: matplotlib>=1.4.0 in c:\\users\\dobre\\anaconda3\\envs\\myenv38\\lib\\site-packages (from scikit-plot) (3.5.2)\n",
      "Requirement already satisfied: scikit-learn>=0.18 in c:\\users\\dobre\\anaconda3\\envs\\myenv38\\lib\\site-packages (from scikit-plot) (1.1.1)\n",
      "Requirement already satisfied: scipy>=0.9 in c:\\users\\dobre\\anaconda3\\envs\\myenv38\\lib\\site-packages (from scikit-plot) (1.7.3)\n",
      "Requirement already satisfied: packaging>=20.0 in c:\\users\\dobre\\anaconda3\\envs\\myenv38\\lib\\site-packages (from matplotlib>=1.4.0->scikit-plot) (21.3)\n",
      "Requirement already satisfied: fonttools>=4.22.0 in c:\\users\\dobre\\anaconda3\\envs\\myenv38\\lib\\site-packages (from matplotlib>=1.4.0->scikit-plot) (4.25.0)\n",
      "Requirement already satisfied: numpy>=1.17 in c:\\users\\dobre\\anaconda3\\envs\\myenv38\\lib\\site-packages (from matplotlib>=1.4.0->scikit-plot) (1.21.5)\n",
      "Requirement already satisfied: pillow>=6.2.0 in c:\\users\\dobre\\anaconda3\\envs\\myenv38\\lib\\site-packages (from matplotlib>=1.4.0->scikit-plot) (9.2.0)\n",
      "Requirement already satisfied: pyparsing>=2.2.1 in c:\\users\\dobre\\anaconda3\\envs\\myenv38\\lib\\site-packages (from matplotlib>=1.4.0->scikit-plot) (3.0.9)\n",
      "Requirement already satisfied: cycler>=0.10 in c:\\users\\dobre\\anaconda3\\envs\\myenv38\\lib\\site-packages (from matplotlib>=1.4.0->scikit-plot) (0.11.0)\n",
      "Requirement already satisfied: python-dateutil>=2.7 in c:\\users\\dobre\\anaconda3\\envs\\myenv38\\lib\\site-packages (from matplotlib>=1.4.0->scikit-plot) (2.8.2)\n",
      "Requirement already satisfied: kiwisolver>=1.0.1 in c:\\users\\dobre\\anaconda3\\envs\\myenv38\\lib\\site-packages (from matplotlib>=1.4.0->scikit-plot) (1.4.2)\n",
      "Requirement already satisfied: threadpoolctl>=2.0.0 in c:\\users\\dobre\\anaconda3\\envs\\myenv38\\lib\\site-packages (from scikit-learn>=0.18->scikit-plot) (2.2.0)\n",
      "Requirement already satisfied: six>=1.5 in c:\\users\\dobre\\anaconda3\\envs\\myenv38\\lib\\site-packages (from python-dateutil>=2.7->matplotlib>=1.4.0->scikit-plot) (1.16.0)\n",
      "Installing collected packages: scikit-plot\n",
      "Successfully installed scikit-plot-0.3.7\n",
      "Note: you may need to restart the kernel to use updated packages.\n"
     ]
    }
   ],
   "source": [
    "pip install scikit-plot"
   ]
  },
  {
   "cell_type": "code",
   "execution_count": 2,
   "id": "3a77c0fd",
   "metadata": {},
   "outputs": [
    {
     "name": "stdout",
     "output_type": "stream",
     "text": [
      "Collecting pyarrow==6.0.0\n",
      "  Downloading pyarrow-6.0.0-cp38-cp38-win_amd64.whl (15.5 MB)\n",
      "     --------------------------------------- 15.5/15.5 MB 22.6 MB/s eta 0:00:00\n",
      "Requirement already satisfied: numpy>=1.16.6 in c:\\users\\dobre\\anaconda3\\envs\\myenv38\\lib\\site-packages (from pyarrow==6.0.0) (1.21.5)\n",
      "Installing collected packages: pyarrow\n",
      "  Attempting uninstall: pyarrow\n",
      "    Found existing installation: pyarrow 8.0.0\n",
      "    Uninstalling pyarrow-8.0.0:\n",
      "      Successfully uninstalled pyarrow-8.0.0\n",
      "Successfully installed pyarrow-6.0.0\n",
      "Note: you may need to restart the kernel to use updated packages.\n"
     ]
    }
   ],
   "source": [
    "pip install pyarrow==6.0.0"
   ]
  },
  {
   "cell_type": "code",
   "execution_count": null,
   "id": "7446b7a8",
   "metadata": {},
   "outputs": [],
   "source": [
    "pip install seaborn"
   ]
  },
  {
   "cell_type": "code",
   "execution_count": null,
   "id": "3b78d37d",
   "metadata": {},
   "outputs": [],
   "source": [
    "pip install matplotlib"
   ]
  },
  {
   "cell_type": "markdown",
   "id": "9e2e0410",
   "metadata": {},
   "source": [
    "## 3. File Download\n",
    "\n",
    "### 3.1 The Dataset"
   ]
  },
  {
   "cell_type": "code",
   "execution_count": 3,
   "id": "55e7d5c2",
   "metadata": {},
   "outputs": [
    {
     "name": "stderr",
     "output_type": "stream",
     "text": [
      "  % Total    % Received % Xferd  Average Speed   Time    Time     Time  Current\n",
      "                                 Dload  Upload   Total   Spent    Left  Speed\n",
      "\n",
      "  0     0    0     0    0     0      0      0 --:--:-- --:--:-- --:--:--     0\n",
      "100  292k  100  292k    0     0   797k      0 --:--:-- --:--:-- --:--:--  801k\n"
     ]
    }
   ],
   "source": [
    "! curl -O https://raw.githubusercontent.com/zoharsan/snowpark_credit_score/main/credit_files.csv"
   ]
  },
  {
   "cell_type": "code",
   "execution_count": 4,
   "id": "c206e595",
   "metadata": {},
   "outputs": [
    {
     "name": "stderr",
     "output_type": "stream",
     "text": [
      "  % Total    % Received % Xferd  Average Speed   Time    Time     Time  Current\n",
      "                                 Dload  Upload   Total   Spent    Left  Speed\n",
      "\n",
      "  0     0    0     0    0     0      0      0 --:--:-- --:--:-- --:--:--     0\n",
      "100  6068  100  6068    0     0  22385      0 --:--:-- --:--:-- --:--:-- 22474\n"
     ]
    }
   ],
   "source": [
    "! curl -O https://raw.githubusercontent.com/zoharsan/snowpark_credit_score/main/credit_request.csv"
   ]
  },
  {
   "cell_type": "markdown",
   "id": "9669ec58",
   "metadata": {},
   "source": [
    "### 3.2 The creds.json credential file\n",
    "\n",
    "The file below needs to be edited with credentials of your Snowflake account and saved. It will be used to connect to Snowflake on the main Notebook:\n",
    "\n",
    "\n",
    "```\n",
    "{\n",
    "  \"account\": \"<account-name>\",\n",
    "  \"user\": \"<user>\",\n",
    "  \"password\": \"<password>\",\n",
    "  \"warehouse\": \"<warehouse-name>\",\n",
    "  \"database\": \"CREDIT_BANK\",\n",
    "  \"schema\": \"PUBLIC\"\n",
    "}\n",
    "```   "
   ]
  },
  {
   "cell_type": "code",
   "execution_count": 5,
   "id": "2d216cfc",
   "metadata": {},
   "outputs": [
    {
     "name": "stderr",
     "output_type": "stream",
     "text": [
      "  % Total    % Received % Xferd  Average Speed   Time    Time     Time  Current\n",
      "                                 Dload  Upload   Total   Spent    Left  Speed\n",
      "\n",
      "  0     0    0     0    0     0      0      0 --:--:-- --:--:-- --:--:--     0\n",
      "  0     0    0     0    0     0      0      0 --:--:-- --:--:-- --:--:--     0\n",
      "  0     0    0     0    0     0      0      0 --:--:-- --:--:-- --:--:--     0\n"
     ]
    }
   ],
   "source": [
    "! curl -O https://github.com/zoharsan/snowpark_credit_score/raw/main/creds.json"
   ]
  },
  {
   "cell_type": "markdown",
   "id": "a6539fca",
   "metadata": {},
   "source": [
    "## 4. The Database\n",
    "\n",
    "In the section below, please fill-up the different parameters to connect to your Snowflake Environment in the cell below."
   ]
  },
  {
   "cell_type": "code",
   "execution_count": 9,
   "id": "4b3e2630",
   "metadata": {},
   "outputs": [
    {
     "name": "stdout",
     "output_type": "stream",
     "text": [
      "[Row(CURRENT_WAREHOUSE()='COMPUTE_WH', CURRENT_DATABASE()='CREDIT_BANK', CURRENT_SCHEMA()='PUBLIC', CURRENT_USER()='ANAMHULUBA', CURRENT_ROLE()='ACCOUNTADMIN')]\n"
     ]
    }
   ],
   "source": [
    "from snowflake.snowpark import *\n",
    "from snowflake.snowpark import version\n",
    "from snowflake.snowpark.functions import *\n",
    "\n",
    "import pandas as pd\n",
    "connection_parameters = {\n",
    "    \"account\": \"kb35457.eu-west-1\",\n",
    "    \"user\": \"anamhuluba\",\n",
    "    \"password\": \"M@maliga13\",\n",
    "    \"warehouse\": \"COMPUTE_WH\",\n",
    "}\n",
    "\n",
    "session = Session.builder.configs(connection_parameters).create()\n",
    "\n",
    "session.sql(\"create or replace database credit_bank\").collect()\n",
    "session.sql(\"use schema credit_bank.public\").collect()\n",
    "print(session.sql(\"select current_warehouse(), current_database(), current_schema(), current_user(), current_role()\").collect())"
   ]
  },
  {
   "cell_type": "markdown",
   "id": "cddf3c4a",
   "metadata": {},
   "source": [
    "## 5. The Tables\n",
    "\n",
    "There are 2 tables associated with this demo:\n",
    "\n",
    "* CREDIT_FILES: This table contains currently the credit on files along with the credit standing whether the loan is being repaid or if there are actual issues with reimbursing the credit. This dataset is going to be used for historical analysis and build a machine learning model to score new applications.\n",
    "\n",
    "* CREDIT_REQUESTS: This table contains the new credit requests that the bank needs to provide approval on based on the ML algorithm.\n",
    "\n",
    "\n",
    "### 5.1 CREDIT_FILES Table\n",
    "\n"
   ]
  },
  {
   "cell_type": "markdown",
   "id": "87ac1fb6",
   "metadata": {},
   "source": [
    "After check running the command below, log into your Snowflake environment and make sure the table was created. It should have 2.9K rows. DO NOT RUN THIS TWICE. Otherwise, it will append the rows twice making the ML model appear overfitting. If you need to rerun it, drop the table first (from the snowflake console or here following the syntax above eg ```session.sql(\"drop table CREDIT_FILES\").collect()```"
   ]
  },
  {
   "cell_type": "code",
   "execution_count": 10,
   "id": "90375742",
   "metadata": {},
   "outputs": [
    {
     "data": {
      "text/plain": [
       "<snowflake.snowpark.table.Table at 0x129187da220>"
      ]
     },
     "execution_count": 10,
     "metadata": {},
     "output_type": "execute_result"
    }
   ],
   "source": [
    "credit_files = pd.read_csv('credit_files.csv')\n",
    "session.write_pandas(credit_files,\"CREDIT_FILES\",auto_create_table='True')"
   ]
  },
  {
   "cell_type": "code",
   "execution_count": 11,
   "id": "0976adbd",
   "metadata": {},
   "outputs": [
    {
     "data": {
      "text/plain": [
       "StructType([StructField('CREDIT_REQUEST_ID', LongType(), nullable=True), StructField('CREDIT_AMOUNT', LongType(), nullable=True), StructField('CREDIT_DURATION', LongType(), nullable=True), StructField('PURPOSE', StringType(), nullable=True), StructField('INSTALLMENT_COMMITMENT', LongType(), nullable=True), StructField('OTHER_PARTIES', StringType(), nullable=True), StructField('CREDIT_STANDING', StringType(), nullable=True), StructField('CREDIT_SCORE', LongType(), nullable=True), StructField('CHECKING_BALANCE', DoubleType(), nullable=True), StructField('SAVINGS_BALANCE', DoubleType(), nullable=True), StructField('EXISTING_CREDITS', LongType(), nullable=True), StructField('ASSETS', StringType(), nullable=True), StructField('HOUSING', StringType(), nullable=True), StructField('QUALIFICATION', StringType(), nullable=True), StructField('JOB_HISTORY', LongType(), nullable=True), StructField('AGE', LongType(), nullable=True), StructField('SEX', StringType(), nullable=True), StructField('MARITAL_STATUS', StringType(), nullable=True), StructField('NUM_DEPENDENTS', LongType(), nullable=True), StructField('RESIDENCE_SINCE', LongType(), nullable=True), StructField('OTHER_PAYMENT_PLANS', StringType(), nullable=True)])"
      ]
     },
     "execution_count": 11,
     "metadata": {},
     "output_type": "execute_result"
    }
   ],
   "source": [
    "credit_df = session.table(\"CREDIT_FILES\")\n",
    "credit_df.schema"
   ]
  },
  {
   "cell_type": "code",
   "execution_count": 27,
   "id": "e52c7b64",
   "metadata": {},
   "outputs": [
    {
     "name": "stdout",
     "output_type": "stream",
     "text": [
      "----------------------------------------------------------------------------------------------------------------------------------------------------------------------------------------------------------------------------------------------------------------------------------------------------------------------------------\n",
      "|\"created_on\"                      |\"name\"        |\"database_name\"  |\"schema_name\"  |\"kind\"  |\"comment\"  |\"cluster_by\"  |\"rows\"  |\"bytes\"  |\"owner\"       |\"retention_time\"  |\"automatic_clustering\"  |\"change_tracking\"  |\"search_optimization\"  |\"search_optimization_progress\"  |\"search_optimization_bytes\"  |\"is_external\"  |\n",
      "----------------------------------------------------------------------------------------------------------------------------------------------------------------------------------------------------------------------------------------------------------------------------------------------------------------------------------\n",
      "|2022-09-04 14:39:53.727000-07:00  |CREDIT_FILES  |CREDIT_BANK      |PUBLIC         |TABLE   |           |              |2940    |85504    |ACCOUNTADMIN  |1                 |OFF                     |OFF                |OFF                    |NULL                            |NULL                         |N              |\n",
      "----------------------------------------------------------------------------------------------------------------------------------------------------------------------------------------------------------------------------------------------------------------------------------------------------------------------------------\n",
      "\n",
      "---------------------------------------------------------------------------------------------------------------------------------------------------------------------------------------------------------------------------------------------------------------------------------------------------------------------------------------------------------------------------------------\n",
      "|\"CREDIT_REQUEST_ID\"  |\"CREDIT_AMOUNT\"  |\"CREDIT_DURATION\"  |\"PURPOSE\"  |\"INSTALLMENT_COMMITMENT\"  |\"OTHER_PARTIES\"  |\"CREDIT_STANDING\"  |\"CREDIT_SCORE\"  |\"CHECKING_BALANCE\"  |\"SAVINGS_BALANCE\"  |\"EXISTING_CREDITS\"  |\"ASSETS\"     |\"HOUSING\"  |\"QUALIFICATION\"  |\"JOB_HISTORY\"  |\"AGE\"  |\"SEX\"  |\"MARITAL_STATUS\"  |\"NUM_DEPENDENTS\"  |\"RESIDENCE_SINCE\"  |\"OTHER_PAYMENT_PLANS\"  |\n",
      "---------------------------------------------------------------------------------------------------------------------------------------------------------------------------------------------------------------------------------------------------------------------------------------------------------------------------------------------------------------------------------------\n",
      "|147                  |8600             |6                  |Vehicle    |1                         |None             |good               |466             |-728.12             |17.0               |2                   |None         |own        |skilled          |15             |39     |F      |Married           |1                 |4                  |none                   |\n",
      "|248                  |12040            |6                  |Vehicle    |4                         |None             |good               |202             |0.0                 |2443.0             |1                   |None         |rent       |skilled          |1              |35     |M      |Single            |1                 |1                  |bank                   |\n",
      "|112                  |3920             |15                 |Tuition    |4                         |None             |good               |736             |4696.0              |143.0              |1                   |Investments  |rent       |skilled          |1              |23     |F      |Married           |1                 |4                  |none                   |\n",
      "|222                  |12000            |12                 |Tuition    |4                         |None             |good               |732             |-25.35              |0.0                |1                   |Investments  |rent       |skilled          |3              |23     |F      |Married           |1                 |4                  |bank                   |\n",
      "|162                  |10550            |18                 |Vehicle    |4                         |None             |good               |507             |0.0                 |510.0              |2                   |Investments  |own        |skilled          |1              |30     |F      |Married           |1                 |1                  |none                   |\n",
      "|71                   |81330            |36                 |Vehicle    |1                         |None             |good               |670             |0.0                 |268.0              |1                   |Investments  |own        |skilled          |2              |30     |F      |Married           |1                 |2                  |bank                   |\n",
      "|165                  |9090             |36                 |Vehicle    |4                         |None             |good               |704             |0.0                 |9353.54            |1                   |Investments  |own        |skilled          |16             |36     |M      |Single            |1                 |4                  |none                   |\n",
      "|24                   |18040            |12                 |Vehicle    |3                         |None             |good               |352             |242.0               |1830.0             |1                   |Investments  |own        |skilled          |1              |44     |M      |Single            |1                 |4                  |none                   |\n",
      "|210                  |14130            |12                 |Vehicle    |3                         |None             |good               |739             |0.0                 |14238.0            |1                   |Investments  |own        |skilled          |5              |55     |M      |Single            |1                 |2                  |none                   |\n",
      "|126                  |21210            |12                 |Vehicle    |4                         |None             |good               |417             |-280.75             |185.0              |2                   |Investments  |own        |skilled          |2              |30     |M      |Single            |1                 |2                  |none                   |\n",
      "---------------------------------------------------------------------------------------------------------------------------------------------------------------------------------------------------------------------------------------------------------------------------------------------------------------------------------------------------------------------------------------\n",
      "\n"
     ]
    }
   ],
   "source": [
    "session.sql('show tables').show()\n",
    "credit_df.show(10)"
   ]
  },
  {
   "cell_type": "code",
   "execution_count": 29,
   "id": "c550638a",
   "metadata": {},
   "outputs": [
    {
     "ename": "SnowparkFetchDataException",
     "evalue": "(1406): Failed to fetch a Pandas Dataframe. The error is: to_pandas() did not return a Pandas DataFrame. If you use session.sql(...).to_pandas(), the input query can only be a SELECT statement. Or you can use session.sql(...).collect() to get a list of Row objects for a non-SELECT statement, then convert it to a Pandas DataFrame.",
     "output_type": "error",
     "traceback": [
      "\u001b[1;31m---------------------------------------------------------------------------\u001b[0m",
      "\u001b[1;31mSnowparkFetchDataException\u001b[0m                Traceback (most recent call last)",
      "\u001b[1;32mc:\\Users\\dobre\\PycharmProjects\\snowpark-python-demos\\Snowpark-credit-scoring\\Credit Scoring Demo Setup Notebook.ipynb Cell 18\u001b[0m in \u001b[0;36m<cell line: 2>\u001b[1;34m()\u001b[0m\n\u001b[0;32m      <a href='vscode-notebook-cell:/c%3A/Users/dobre/PycharmProjects/snowpark-python-demos/Snowpark-credit-scoring/Credit%20Scoring%20Demo%20Setup%20Notebook.ipynb#X23sZmlsZQ%3D%3D?line=0'>1</a>\u001b[0m \u001b[39mimport\u001b[39;00m \u001b[39mpandas\u001b[39;00m \u001b[39mas\u001b[39;00m \u001b[39mpd\u001b[39;00m\n\u001b[1;32m----> <a href='vscode-notebook-cell:/c%3A/Users/dobre/PycharmProjects/snowpark-python-demos/Snowpark-credit-scoring/Credit%20Scoring%20Demo%20Setup%20Notebook.ipynb#X23sZmlsZQ%3D%3D?line=1'>2</a>\u001b[0m pds \u001b[39m=\u001b[39m credit_df\u001b[39m.\u001b[39;49mtoPandas()\n",
      "File \u001b[1;32mc:\\Users\\dobre\\anaconda3\\envs\\myenv38\\lib\\site-packages\\snowflake\\snowpark\\_internal\\telemetry.py:76\u001b[0m, in \u001b[0;36mdf_action_telemetry.<locals>.wrap\u001b[1;34m(*args, **kwargs)\u001b[0m\n\u001b[0;32m     74\u001b[0m \u001b[39m@functools\u001b[39m\u001b[39m.\u001b[39mwraps(func)\n\u001b[0;32m     75\u001b[0m \u001b[39mdef\u001b[39;00m \u001b[39mwrap\u001b[39m(\u001b[39m*\u001b[39margs, \u001b[39m*\u001b[39m\u001b[39m*\u001b[39mkwargs):\n\u001b[1;32m---> 76\u001b[0m     result \u001b[39m=\u001b[39m func(\u001b[39m*\u001b[39;49margs, \u001b[39m*\u001b[39;49m\u001b[39m*\u001b[39;49mkwargs)\n\u001b[0;32m     77\u001b[0m     args[\u001b[39m0\u001b[39m]\u001b[39m.\u001b[39m_session\u001b[39m.\u001b[39m_conn\u001b[39m.\u001b[39m_telemetry_client\u001b[39m.\u001b[39msend_function_usage_telemetry(\n\u001b[0;32m     78\u001b[0m         \u001b[39mf\u001b[39m\u001b[39m\"\u001b[39m\u001b[39maction_\u001b[39m\u001b[39m{\u001b[39;00mfunc\u001b[39m.\u001b[39m\u001b[39m__name__\u001b[39m\u001b[39m}\u001b[39;00m\u001b[39m\"\u001b[39m, TelemetryField\u001b[39m.\u001b[39mFUNC_CAT_ACTION\u001b[39m.\u001b[39mvalue\n\u001b[0;32m     79\u001b[0m     )\n\u001b[0;32m     80\u001b[0m     \u001b[39mreturn\u001b[39;00m result\n",
      "File \u001b[1;32mc:\\Users\\dobre\\anaconda3\\envs\\myenv38\\lib\\site-packages\\snowflake\\snowpark\\dataframe.py:502\u001b[0m, in \u001b[0;36mDataFrame.to_pandas\u001b[1;34m(self, **kwargs)\u001b[0m\n\u001b[0;32m    498\u001b[0m \u001b[39m# if the returned result is not a pandas dataframe, raise Exception\u001b[39;00m\n\u001b[0;32m    499\u001b[0m \u001b[39m# this might happen when calling this method with non-select commands\u001b[39;00m\n\u001b[0;32m    500\u001b[0m \u001b[39m# e.g., session.sql(\"create ...\").to_pandas()\u001b[39;00m\n\u001b[0;32m    501\u001b[0m \u001b[39mif\u001b[39;00m \u001b[39mnot\u001b[39;00m \u001b[39misinstance\u001b[39m(result, pandas\u001b[39m.\u001b[39mDataFrame):\n\u001b[1;32m--> 502\u001b[0m     \u001b[39mraise\u001b[39;00m SnowparkClientExceptionMessages\u001b[39m.\u001b[39mSERVER_FAILED_FETCH_PANDAS(\n\u001b[0;32m    503\u001b[0m         \u001b[39m\"\u001b[39m\u001b[39mto_pandas() did not return a Pandas DataFrame. \u001b[39m\u001b[39m\"\u001b[39m\n\u001b[0;32m    504\u001b[0m         \u001b[39m\"\u001b[39m\u001b[39mIf you use session.sql(...).to_pandas(), the input query can only be a \u001b[39m\u001b[39m\"\u001b[39m\n\u001b[0;32m    505\u001b[0m         \u001b[39m\"\u001b[39m\u001b[39mSELECT statement. Or you can use session.sql(...).collect() to get a \u001b[39m\u001b[39m\"\u001b[39m\n\u001b[0;32m    506\u001b[0m         \u001b[39m\"\u001b[39m\u001b[39mlist of Row objects for a non-SELECT statement, then convert it to a \u001b[39m\u001b[39m\"\u001b[39m\n\u001b[0;32m    507\u001b[0m         \u001b[39m\"\u001b[39m\u001b[39mPandas DataFrame.\u001b[39m\u001b[39m\"\u001b[39m\n\u001b[0;32m    508\u001b[0m     )\n\u001b[0;32m    510\u001b[0m \u001b[39mreturn\u001b[39;00m result\n",
      "\u001b[1;31mSnowparkFetchDataException\u001b[0m: (1406): Failed to fetch a Pandas Dataframe. The error is: to_pandas() did not return a Pandas DataFrame. If you use session.sql(...).to_pandas(), the input query can only be a SELECT statement. Or you can use session.sql(...).collect() to get a list of Row objects for a non-SELECT statement, then convert it to a Pandas DataFrame."
     ]
    }
   ],
   "source": [
    "import pandas as pd\n",
    "pds = credit_df.toPandas()"
   ]
  },
  {
   "cell_type": "markdown",
   "id": "61582b2b",
   "metadata": {},
   "source": [
    "### 5.2 CREDIT_REQUEST Table"
   ]
  },
  {
   "cell_type": "markdown",
   "id": "91f6e37f",
   "metadata": {},
   "source": [
    "After check running the command below, log into your Snowflake environment and make sure the table was created. It should have 60 rows. DO NOT RUN THIS TWICE. Otherwise, it will append the rows twice If you need to rerun it, drop the table first (from the snowflake console or here following the syntax above eg ```session.sql(\"drop table CREDIT_REQUESTS\").collect()```"
   ]
  },
  {
   "cell_type": "code",
   "execution_count": 30,
   "id": "752f337f",
   "metadata": {},
   "outputs": [
    {
     "data": {
      "text/plain": [
       "<snowflake.snowpark.table.Table at 0x12919277d00>"
      ]
     },
     "execution_count": 30,
     "metadata": {},
     "output_type": "execute_result"
    }
   ],
   "source": [
    "credit_requests = pd.read_csv('credit_request.csv')\n",
    "session.write_pandas(credit_requests,\"CREDIT_REQUESTS\",auto_create_table='True')"
   ]
  },
  {
   "cell_type": "code",
   "execution_count": 31,
   "id": "c8fd2b53",
   "metadata": {},
   "outputs": [
    {
     "data": {
      "text/plain": [
       "StructType([StructField('CREDIT_REQUEST_ID', LongType(), nullable=True), StructField('CREDIT_AMOUNT', LongType(), nullable=True), StructField('CREDIT_DURATION', LongType(), nullable=True), StructField('PURPOSE', StringType(), nullable=True), StructField('INSTALLMENT_COMMITMENT', LongType(), nullable=True), StructField('OTHER_PARTIES', StringType(), nullable=True), StructField('CREDIT_SCORE', LongType(), nullable=True), StructField('CHECKING_BALANCE', DoubleType(), nullable=True), StructField('SAVINGS_BALANCE', DoubleType(), nullable=True), StructField('EXISTING_CREDITS', LongType(), nullable=True), StructField('ASSETS', StringType(), nullable=True), StructField('HOUSING', StringType(), nullable=True), StructField('QUALIFICATION', StringType(), nullable=True), StructField('JOB_HISTORY', LongType(), nullable=True), StructField('AGE', LongType(), nullable=True), StructField('SEX', StringType(), nullable=True), StructField('MARITAL_STATUS', StringType(), nullable=True), StructField('NUM_DEPENDENTS', LongType(), nullable=True), StructField('RESIDENCE_SINCE', LongType(), nullable=True), StructField('OTHER_PAYMENT_PLANS', StringType(), nullable=True)])"
      ]
     },
     "execution_count": 31,
     "metadata": {},
     "output_type": "execute_result"
    }
   ],
   "source": [
    "credit_req_df = session.table(\"CREDIT_REQUESTS\")\n",
    "credit_req_df.schema"
   ]
  },
  {
   "cell_type": "code",
   "execution_count": 32,
   "id": "0c615429",
   "metadata": {},
   "outputs": [
    {
     "ename": "SnowparkFetchDataException",
     "evalue": "(1406): Failed to fetch a Pandas Dataframe. The error is: to_pandas() did not return a Pandas DataFrame. If you use session.sql(...).to_pandas(), the input query can only be a SELECT statement. Or you can use session.sql(...).collect() to get a list of Row objects for a non-SELECT statement, then convert it to a Pandas DataFrame.",
     "output_type": "error",
     "traceback": [
      "\u001b[1;31m---------------------------------------------------------------------------\u001b[0m",
      "\u001b[1;31mSnowparkFetchDataException\u001b[0m                Traceback (most recent call last)",
      "\u001b[1;32mc:\\Users\\dobre\\PycharmProjects\\snowpark-python-demos\\Snowpark-credit-scoring\\Credit Scoring Demo Setup Notebook.ipynb Cell 23\u001b[0m in \u001b[0;36m<cell line: 1>\u001b[1;34m()\u001b[0m\n\u001b[1;32m----> <a href='vscode-notebook-cell:/c%3A/Users/dobre/PycharmProjects/snowpark-python-demos/Snowpark-credit-scoring/Credit%20Scoring%20Demo%20Setup%20Notebook.ipynb#X31sZmlsZQ%3D%3D?line=0'>1</a>\u001b[0m credit_req_df\u001b[39m.\u001b[39;49mtoPandas()\u001b[39m.\u001b[39mhead()\n",
      "File \u001b[1;32mc:\\Users\\dobre\\anaconda3\\envs\\myenv38\\lib\\site-packages\\snowflake\\snowpark\\_internal\\telemetry.py:76\u001b[0m, in \u001b[0;36mdf_action_telemetry.<locals>.wrap\u001b[1;34m(*args, **kwargs)\u001b[0m\n\u001b[0;32m     74\u001b[0m \u001b[39m@functools\u001b[39m\u001b[39m.\u001b[39mwraps(func)\n\u001b[0;32m     75\u001b[0m \u001b[39mdef\u001b[39;00m \u001b[39mwrap\u001b[39m(\u001b[39m*\u001b[39margs, \u001b[39m*\u001b[39m\u001b[39m*\u001b[39mkwargs):\n\u001b[1;32m---> 76\u001b[0m     result \u001b[39m=\u001b[39m func(\u001b[39m*\u001b[39;49margs, \u001b[39m*\u001b[39;49m\u001b[39m*\u001b[39;49mkwargs)\n\u001b[0;32m     77\u001b[0m     args[\u001b[39m0\u001b[39m]\u001b[39m.\u001b[39m_session\u001b[39m.\u001b[39m_conn\u001b[39m.\u001b[39m_telemetry_client\u001b[39m.\u001b[39msend_function_usage_telemetry(\n\u001b[0;32m     78\u001b[0m         \u001b[39mf\u001b[39m\u001b[39m\"\u001b[39m\u001b[39maction_\u001b[39m\u001b[39m{\u001b[39;00mfunc\u001b[39m.\u001b[39m\u001b[39m__name__\u001b[39m\u001b[39m}\u001b[39;00m\u001b[39m\"\u001b[39m, TelemetryField\u001b[39m.\u001b[39mFUNC_CAT_ACTION\u001b[39m.\u001b[39mvalue\n\u001b[0;32m     79\u001b[0m     )\n\u001b[0;32m     80\u001b[0m     \u001b[39mreturn\u001b[39;00m result\n",
      "File \u001b[1;32mc:\\Users\\dobre\\anaconda3\\envs\\myenv38\\lib\\site-packages\\snowflake\\snowpark\\dataframe.py:502\u001b[0m, in \u001b[0;36mDataFrame.to_pandas\u001b[1;34m(self, **kwargs)\u001b[0m\n\u001b[0;32m    498\u001b[0m \u001b[39m# if the returned result is not a pandas dataframe, raise Exception\u001b[39;00m\n\u001b[0;32m    499\u001b[0m \u001b[39m# this might happen when calling this method with non-select commands\u001b[39;00m\n\u001b[0;32m    500\u001b[0m \u001b[39m# e.g., session.sql(\"create ...\").to_pandas()\u001b[39;00m\n\u001b[0;32m    501\u001b[0m \u001b[39mif\u001b[39;00m \u001b[39mnot\u001b[39;00m \u001b[39misinstance\u001b[39m(result, pandas\u001b[39m.\u001b[39mDataFrame):\n\u001b[1;32m--> 502\u001b[0m     \u001b[39mraise\u001b[39;00m SnowparkClientExceptionMessages\u001b[39m.\u001b[39mSERVER_FAILED_FETCH_PANDAS(\n\u001b[0;32m    503\u001b[0m         \u001b[39m\"\u001b[39m\u001b[39mto_pandas() did not return a Pandas DataFrame. \u001b[39m\u001b[39m\"\u001b[39m\n\u001b[0;32m    504\u001b[0m         \u001b[39m\"\u001b[39m\u001b[39mIf you use session.sql(...).to_pandas(), the input query can only be a \u001b[39m\u001b[39m\"\u001b[39m\n\u001b[0;32m    505\u001b[0m         \u001b[39m\"\u001b[39m\u001b[39mSELECT statement. Or you can use session.sql(...).collect() to get a \u001b[39m\u001b[39m\"\u001b[39m\n\u001b[0;32m    506\u001b[0m         \u001b[39m\"\u001b[39m\u001b[39mlist of Row objects for a non-SELECT statement, then convert it to a \u001b[39m\u001b[39m\"\u001b[39m\n\u001b[0;32m    507\u001b[0m         \u001b[39m\"\u001b[39m\u001b[39mPandas DataFrame.\u001b[39m\u001b[39m\"\u001b[39m\n\u001b[0;32m    508\u001b[0m     )\n\u001b[0;32m    510\u001b[0m \u001b[39mreturn\u001b[39;00m result\n",
      "\u001b[1;31mSnowparkFetchDataException\u001b[0m: (1406): Failed to fetch a Pandas Dataframe. The error is: to_pandas() did not return a Pandas DataFrame. If you use session.sql(...).to_pandas(), the input query can only be a SELECT statement. Or you can use session.sql(...).collect() to get a list of Row objects for a non-SELECT statement, then convert it to a Pandas DataFrame."
     ]
    }
   ],
   "source": [
    "credit_req_df.toPandas().head()"
   ]
  },
  {
   "cell_type": "code",
   "execution_count": 33,
   "id": "855cbc08",
   "metadata": {},
   "outputs": [
    {
     "ename": "SnowparkFetchDataException",
     "evalue": "(1406): Failed to fetch a Pandas Dataframe. The error is: to_pandas() did not return a Pandas DataFrame. If you use session.sql(...).to_pandas(), the input query can only be a SELECT statement. Or you can use session.sql(...).collect() to get a list of Row objects for a non-SELECT statement, then convert it to a Pandas DataFrame.",
     "output_type": "error",
     "traceback": [
      "\u001b[1;31m---------------------------------------------------------------------------\u001b[0m",
      "\u001b[1;31mSnowparkFetchDataException\u001b[0m                Traceback (most recent call last)",
      "\u001b[1;32mc:\\Users\\dobre\\PycharmProjects\\snowpark-python-demos\\Snowpark-credit-scoring\\Credit Scoring Demo Setup Notebook.ipynb Cell 24\u001b[0m in \u001b[0;36m<cell line: 1>\u001b[1;34m()\u001b[0m\n\u001b[1;32m----> <a href='vscode-notebook-cell:/c%3A/Users/dobre/PycharmProjects/snowpark-python-demos/Snowpark-credit-scoring/Credit%20Scoring%20Demo%20Setup%20Notebook.ipynb#X32sZmlsZQ%3D%3D?line=0'>1</a>\u001b[0m credit_req_df\u001b[39m.\u001b[39;49mtoPandas()\u001b[39m.\u001b[39minfo()\n",
      "File \u001b[1;32mc:\\Users\\dobre\\anaconda3\\envs\\myenv38\\lib\\site-packages\\snowflake\\snowpark\\_internal\\telemetry.py:76\u001b[0m, in \u001b[0;36mdf_action_telemetry.<locals>.wrap\u001b[1;34m(*args, **kwargs)\u001b[0m\n\u001b[0;32m     74\u001b[0m \u001b[39m@functools\u001b[39m\u001b[39m.\u001b[39mwraps(func)\n\u001b[0;32m     75\u001b[0m \u001b[39mdef\u001b[39;00m \u001b[39mwrap\u001b[39m(\u001b[39m*\u001b[39margs, \u001b[39m*\u001b[39m\u001b[39m*\u001b[39mkwargs):\n\u001b[1;32m---> 76\u001b[0m     result \u001b[39m=\u001b[39m func(\u001b[39m*\u001b[39;49margs, \u001b[39m*\u001b[39;49m\u001b[39m*\u001b[39;49mkwargs)\n\u001b[0;32m     77\u001b[0m     args[\u001b[39m0\u001b[39m]\u001b[39m.\u001b[39m_session\u001b[39m.\u001b[39m_conn\u001b[39m.\u001b[39m_telemetry_client\u001b[39m.\u001b[39msend_function_usage_telemetry(\n\u001b[0;32m     78\u001b[0m         \u001b[39mf\u001b[39m\u001b[39m\"\u001b[39m\u001b[39maction_\u001b[39m\u001b[39m{\u001b[39;00mfunc\u001b[39m.\u001b[39m\u001b[39m__name__\u001b[39m\u001b[39m}\u001b[39;00m\u001b[39m\"\u001b[39m, TelemetryField\u001b[39m.\u001b[39mFUNC_CAT_ACTION\u001b[39m.\u001b[39mvalue\n\u001b[0;32m     79\u001b[0m     )\n\u001b[0;32m     80\u001b[0m     \u001b[39mreturn\u001b[39;00m result\n",
      "File \u001b[1;32mc:\\Users\\dobre\\anaconda3\\envs\\myenv38\\lib\\site-packages\\snowflake\\snowpark\\dataframe.py:502\u001b[0m, in \u001b[0;36mDataFrame.to_pandas\u001b[1;34m(self, **kwargs)\u001b[0m\n\u001b[0;32m    498\u001b[0m \u001b[39m# if the returned result is not a pandas dataframe, raise Exception\u001b[39;00m\n\u001b[0;32m    499\u001b[0m \u001b[39m# this might happen when calling this method with non-select commands\u001b[39;00m\n\u001b[0;32m    500\u001b[0m \u001b[39m# e.g., session.sql(\"create ...\").to_pandas()\u001b[39;00m\n\u001b[0;32m    501\u001b[0m \u001b[39mif\u001b[39;00m \u001b[39mnot\u001b[39;00m \u001b[39misinstance\u001b[39m(result, pandas\u001b[39m.\u001b[39mDataFrame):\n\u001b[1;32m--> 502\u001b[0m     \u001b[39mraise\u001b[39;00m SnowparkClientExceptionMessages\u001b[39m.\u001b[39mSERVER_FAILED_FETCH_PANDAS(\n\u001b[0;32m    503\u001b[0m         \u001b[39m\"\u001b[39m\u001b[39mto_pandas() did not return a Pandas DataFrame. \u001b[39m\u001b[39m\"\u001b[39m\n\u001b[0;32m    504\u001b[0m         \u001b[39m\"\u001b[39m\u001b[39mIf you use session.sql(...).to_pandas(), the input query can only be a \u001b[39m\u001b[39m\"\u001b[39m\n\u001b[0;32m    505\u001b[0m         \u001b[39m\"\u001b[39m\u001b[39mSELECT statement. Or you can use session.sql(...).collect() to get a \u001b[39m\u001b[39m\"\u001b[39m\n\u001b[0;32m    506\u001b[0m         \u001b[39m\"\u001b[39m\u001b[39mlist of Row objects for a non-SELECT statement, then convert it to a \u001b[39m\u001b[39m\"\u001b[39m\n\u001b[0;32m    507\u001b[0m         \u001b[39m\"\u001b[39m\u001b[39mPandas DataFrame.\u001b[39m\u001b[39m\"\u001b[39m\n\u001b[0;32m    508\u001b[0m     )\n\u001b[0;32m    510\u001b[0m \u001b[39mreturn\u001b[39;00m result\n",
      "\u001b[1;31mSnowparkFetchDataException\u001b[0m: (1406): Failed to fetch a Pandas Dataframe. The error is: to_pandas() did not return a Pandas DataFrame. If you use session.sql(...).to_pandas(), the input query can only be a SELECT statement. Or you can use session.sql(...).collect() to get a list of Row objects for a non-SELECT statement, then convert it to a Pandas DataFrame."
     ]
    }
   ],
   "source": [
    "credit_req_df.toPandas().info()"
   ]
  },
  {
   "cell_type": "code",
   "execution_count": null,
   "id": "bba75069",
   "metadata": {},
   "outputs": [],
   "source": []
  }
 ],
 "metadata": {
  "kernelspec": {
   "display_name": "Python 3.8.13 ('myenv38')",
   "language": "python",
   "name": "python3"
  },
  "language_info": {
   "codemirror_mode": {
    "name": "ipython",
    "version": 3
   },
   "file_extension": ".py",
   "mimetype": "text/x-python",
   "name": "python",
   "nbconvert_exporter": "python",
   "pygments_lexer": "ipython3",
   "version": "3.8.13"
  },
  "vscode": {
   "interpreter": {
    "hash": "ec9f6ada641a35384d6c1f3371552dafd56cc8b93e3dff95678987438dbe13f8"
   }
  }
 },
 "nbformat": 4,
 "nbformat_minor": 5
}
